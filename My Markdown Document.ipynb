{
  "metadata": {
    "kernelspec": {
      "name": "python",
      "display_name": "Python (Pyodide)",
      "language": "python"
    },
    "language_info": {
      "codemirror_mode": {
        "name": "python",
        "version": 3
      },
      "file_extension": ".py",
      "mimetype": "text/x-python",
      "name": "python",
      "nbconvert_exporter": "python",
      "pygments_lexer": "ipython3",
      "version": "3.8"
    }
  },
  "nbformat_minor": 4,
  "nbformat": 4,
  "cells": [
    {
      "cell_type": "markdown",
      "source": "# Introduction to Data Science Notebooks",
      "metadata": {}
    },
    {
      "cell_type": "markdown",
      "source": "This notebook is an introduction to using Jupyter Notebooks for data science. It covers the basics of Markdown cells, code cells, and various data science concepts.",
      "metadata": {}
    },
    {
      "cell_type": "markdown",
      "source": "Some popular data science programming languages include:\n- Python\n- R\n- Java \n- Scala\n- SQL",
      "metadata": {}
    },
    {
      "cell_type": "markdown",
      "source": "Common data science libraries and frameworks include:\n- NumPy\n- Pandas\n- Matplotlib\n- Scikit-learn\n- TensorFlow\n- PyTorch",
      "metadata": {}
    },
    {
      "cell_type": "markdown",
      "source": "| Data Science Tool | Description |\n| --- | --- |\n| Jupyter Notebook | Interactive coding environment |\n| RStudio | Integrated development environment for R |\n| Apache Spark | Distributed data processing engine |\n| Tableau | Data visualization and business intelligence tool |\n| Git | Version control system |",
      "metadata": {}
    },
    {
      "cell_type": "markdown",
      "source": "## In the following cells, we will demonstrate some basic arithmetic operations in Python.",
      "metadata": {}
    },
    {
      "cell_type": "markdown",
      "source": " ### Arithmetic expression: \n- Addition. \n- subtraction. \n- Multiplication.\n- Division.\n",
      "metadata": {}
    },
    {
      "cell_type": "code",
      "source": "x = 5\ny = 10\nproduct = x * y\nsum = x + y\nprint(f\"The product of {x} and {y} is {product}\")\nprint(f\"The sum of {x} and {y} is {sum}\")",
      "metadata": {
        "trusted": true
      },
      "outputs": [],
      "execution_count": null
    },
    {
      "cell_type": "code",
      "source": "minutes = 120\nhours = minutes / 60\nprint(f\"{minutes} minutes is equal to {hours} hours\")",
      "metadata": {
        "trusted": true
      },
      "outputs": [],
      "execution_count": null
    },
    {
      "cell_type": "markdown",
      "source": "### Objectives:\n- Understand the basics of Jupyter Notebooks\n- Learn how to create Markdown cells and Code cells\n- Practice using common data science languages and libraries\n- Explore basic arithmetic operations in Python",
      "metadata": {}
    },
    {
      "cell_type": "markdown",
      "source": "## Author: **Dina Aly**",
      "metadata": {}
    }
  ]
}